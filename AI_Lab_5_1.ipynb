{
  "nbformat": 4,
  "nbformat_minor": 0,
  "metadata": {
    "colab": {
      "name": "AI Lab 5.1.ipynb",
      "provenance": []
    },
    "kernelspec": {
      "name": "python3",
      "display_name": "Python 3"
    }
  },
  "cells": [
    {
      "cell_type": "code",
      "metadata": {
        "id": "TFCh58vlgL_b"
      },
      "source": [
        "from queue import PriorityQueue\r\n",
        "v = 14\r\n",
        "graph = [[] for i in range(v)]\r\n",
        " \r\n"
      ],
      "execution_count": 1,
      "outputs": []
    },
    {
      "cell_type": "code",
      "metadata": {
        "id": "0OoCB_spgXG-"
      },
      "source": [
        "def best_first_search(source, target, n):\r\n",
        "    visited = [0] * n\r\n",
        "    \r\n",
        "    pq = PriorityQueue()\r\n",
        "    pq.put((0, source))\r\n",
        "    while pq.empty() == False:\r\n",
        "        u = pq.get()[1]\r\n",
        "        # Displaying the path having lowest cost\r\n",
        "        print(u, end=\" \")\r\n",
        "        if u == target:\r\n",
        "            break\r\n",
        " \r\n",
        "        for v, c in graph[u]:\r\n",
        "            if visited[v] == False:\r\n",
        "                visited[v] = True\r\n",
        "                pq.put((c, v))"
      ],
      "execution_count": 3,
      "outputs": []
    },
    {
      "cell_type": "code",
      "metadata": {
        "id": "3ZpGj_5mgcbP"
      },
      "source": [
        "def addedge(x, y, cost):\r\n",
        "    graph[x].append((y, cost))\r\n",
        "    graph[y].append((x, cost))\r\n"
      ],
      "execution_count": 2,
      "outputs": []
    },
    {
      "cell_type": "code",
      "metadata": {
        "colab": {
          "base_uri": "https://localhost:8080/"
        },
        "id": "1e_eygFkgdm7",
        "outputId": "fcf9313c-c172-4963-8171-2b287bd9098c"
      },
      "source": [
        "addedge(0, 1, 3)\r\n",
        "addedge(0, 2, 6)\r\n",
        "addedge(0, 3, 5)\r\n",
        "addedge(1, 4, 9)\r\n",
        "addedge(1, 5, 8)\r\n",
        "addedge(2, 6, 12)\r\n",
        "addedge(2, 7, 14)\r\n",
        "addedge(3, 8, 7)\r\n",
        "addedge(8, 9, 5)\r\n",
        "addedge(8, 10, 6)\r\n",
        "addedge(9, 11, 1)\r\n",
        "addedge(9, 12, 10)\r\n",
        "addedge(9, 13, 2)\r\n",
        "source = 0\r\n",
        "target = 9\r\n",
        "best_first_search(source, target, v)"
      ],
      "execution_count": 4,
      "outputs": [
        {
          "output_type": "stream",
          "text": [
            "0 1 0 3 2 8 9 "
          ],
          "name": "stdout"
        }
      ]
    }
  ]
}